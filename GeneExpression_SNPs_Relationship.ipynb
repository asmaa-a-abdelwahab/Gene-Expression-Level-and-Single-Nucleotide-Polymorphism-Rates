{
 "cells": [
  {
   "cell_type": "code",
   "execution_count": 1,
   "metadata": {},
   "outputs": [],
   "source": [
    "#import libraries\n",
    "import sys\n",
    "import mygene\n",
    "import pandas as pd\n",
    "from subprocess import call\n",
    "from pybedtools import BedTool"
   ]
  },
  {
   "cell_type": "code",
   "execution_count": 2,
   "metadata": {},
   "outputs": [],
   "source": [
    "# Reteive and prepare the gene level expression file\n",
    "!wget http://fantom.gsc.riken.jp/5/datafiles/latest/extra/gene_level_expression/hg19.gene_phase1and2combined_tpm.osc.txt.gz\n",
    "!cat hg19.gene_phase1and2combined_tpm.osc.txt | sed '/^#/ d' > hg19_tpm.txt"
   ]
  },
  {
   "cell_type": "code",
   "execution_count": 3,
   "metadata": {
    "scrolled": true
   },
   "outputs": [],
   "source": [
    "# Conversion from gene sumbols to ensembl IDs\n",
    "def gene_to_ens(genes):\n",
    "    mg = mygene.MyGeneInfo()\n",
    "    ENS_IDs = []\n",
    "    for gene in genes:\n",
    "        result = mg.query(gene, scopes=\"symbol\", fields=[\"ensembl\"], species=\"human\", verbose=False)\n",
    "        hgnc_name = gene\n",
    "        for hit in result[\"hits\"]:\n",
    "            if \"ensembl\" in hit and \"gene\" in hit[\"ensembl\"]:\n",
    "                #sys.stdout.write(\"%s\\t%s\\n\" % (hgnc_name, hit[\"ensembl\"][\"gene\"]))\n",
    "                ENS_IDs.append(hit[\"ensembl\"][\"gene\"])\n",
    "    return(ENS_IDs)"
   ]
  },
  {
   "cell_type": "code",
   "execution_count": 4,
   "metadata": {
    "scrolled": true
   },
   "outputs": [],
   "source": [
    "# Get the values from gtf file using ensembl IDs\n",
    "def get_gtf(df_gtf, ens_ids):\n",
    "    df_ = pd.DataFrame()\n",
    "    for value in ens_ids:\n",
    "        df_ = df_.append(df_gtf[df_gtf[8].str.contains(value)==True], ignore_index=True)\n",
    "    return(df_)"
   ]
  },
  {
   "cell_type": "code",
   "execution_count": 5,
   "metadata": {},
   "outputs": [],
   "source": [
    "# Get filtered gtf file of specific set of genes \n",
    "def filter_gtf(df_gtf, high_genes_ens, low_genes_ens, method):\n",
    "    GRCh37_filtered_high = get_gtf(df_gtf, high_genes_ens)\n",
    "    GRCh37_filtered_high.to_csv('GRCh37_filtered_high_{}.gtf'.format(method),sep='\\t', index=False )\n",
    "    GRCh37_filtered_low = get_gtf(df_gtf, low_genes_ens)\n",
    "    GRCh37_filtered_low.to_csv('GRCh37_filtered_low_{}.gtf'.format(method),sep='\\t', index=False )"
   ]
  },
  {
   "cell_type": "code",
   "execution_count": 37,
   "metadata": {},
   "outputs": [],
   "source": [
    "# Extract the variants of specific set of genes from bed file\n",
    "def get_Variants(genes_bed_file, variants0.0034899837337915773):\n",
    "    expressed_genes = BedTool(genes_bed_file)\n",
    "    expressed_genes.sort()\n",
    "    extracted_variants = variants.intersect(expressed_genes)\n",
    "    extracted_variants.saveas('{}.vcf'.format(genes_bed_file[:-4]))"
   ]
  },
  {
   "cell_type": "code",
   "execution_count": 7,
   "metadata": {},
   "outputs": [],
   "source": [
    "# Count word occurence in a file\n",
    "def lcount(keyword, fname):\n",
    "    with open(fname, 'r') as fin:\n",
    "        return sum([1 for line in fin if keyword in line])"
   ]
  },
  {
   "cell_type": "code",
   "execution_count": 8,
   "metadata": {},
   "outputs": [],
   "source": [
    "# Load the tpm file containing gene expression values for different genes in different tissues of hg19\n",
    "df = pd.read_csv('hg19_tpm.tsv', sep='\\t')\n",
    "\n",
    "# calculation of max, median, breadth values for each gene\n",
    "df['max_expr'] = df.iloc[:, 1:1829].max(axis=1)\n",
    "df['median_expr'] = df.iloc[:, 1:1829].median(axis=1)\n",
    "df['expr_breadth'] = df.iloc[:, 1:1829].ge(5, axis=0).sum(axis=1)\n",
    "\n",
    "df.rename(columns={'00Annotation': 'Annotation'}, inplace=True)\n",
    "df = df[['Annotation','max_expr', 'median_expr', 'expr_breadth']]\n",
    "df.to_csv('max_med_breadth.csv', index=None)\n",
    "\n",
    "#Create separate dataframe for max, median, and breadth\n",
    "df1 = df[['Annotation', 'max_expr']].sort_values('max_expr', ascending=False)\n",
    "df1 = df1.reset_index()\n",
    "df1.drop(columns=['index'], inplace=True)\n",
    "\n",
    "df2 = df[['Annotation', 'median_expr']].sort_values('median_expr', ascending=False)\n",
    "df2.reset_index(inplace=True)\n",
    "df2.drop(columns=['index'], inplace=True)\n",
    "\n",
    "df3 = df[['Annotation', 'expr_breadth']].sort_values('expr_breadth', ascending=False)\n",
    "df3.reset_index(inplace=True)\n",
    "df3.drop(columns=['index'], inplace=True)"
   ]
  },
  {
   "cell_type": "code",
   "execution_count": null,
   "metadata": {},
   "outputs": [],
   "source": [
    "# load the coordinates file of the human genome hg19/GRCh37\n",
    "# wget ftp://ftp.ensembl.org/pub/release-75/gtf/homo_sapiens/Homo_sapiens.GRCh37.75.gtf.gz\n",
    "df_gtf = pd.read_csv('GRCh37.gtf', sep='\\t', header=None)"
   ]
  },
  {
   "cell_type": "code",
   "execution_count": 13,
   "metadata": {},
   "outputs": [],
   "source": [
    "# Get all the variants from a vcf file\n",
    "variants = BedTool('ALL.wgs.phase3_shapeit2_mvncall_integrated_v5b.20130502.sites.vcf.gz')\n",
    "#variants.saveas('snps.txt')"
   ]
  },
  {
   "cell_type": "code",
   "execution_count": null,
   "metadata": {},
   "outputs": [],
   "source": [
    "for data in [df1, df2, df3]:\n",
    "    # Select highly and lowly expressed genes (top 5% and bottom 5%)\n",
    "    high_genes = set(data['Annotation'][:1403])\n",
    "    low_genes = set(data['Annotation'][-1403:])\n",
    "    \n",
    "    # Get ensembl IDs for highly and lowly expressed genes\n",
    "    high_genes_ens = gene_to_ens(high_genes)\n",
    "    low_genes_ens = gene_to_ens(low_genes)\n",
    "    \n",
    "    if data.equals(df1):\n",
    "        filter_gtf(df_gtf, high_genes_ens, low_genes_ens, 'max')\n",
    "    if data.equals(df2):\n",
    "        filter_gtf(df_gtf, high_genes_ens, low_genes_ens, 'median')\n",
    "    else:\n",
    "        filter_gtf(df_gtf, high_genes_ens, low_genes_ens, 'breadth')"
   ]
  },
  {
   "cell_type": "code",
   "execution_count": 35,
   "metadata": {},
   "outputs": [],
   "source": [
    "# prepare gtf and bed files for exons and introns\n",
    "!bash ./prepare_bed.sh"
   ]
  },
  {
   "cell_type": "code",
   "execution_count": 40,
   "metadata": {
    "scrolled": false
   },
   "outputs": [
    {
     "name": "stdout",
     "output_type": "stream",
     "text": [
      "Frequency of SNPs in exons of high expressed genes using the max expression values\n",
      "0.0034899837337915773\n",
      "Frequency of SNPs in introns of high expressed genes using the max expression values\n",
      "0.03314763184341043\n",
      "Frequency of SNPs in exons of low expressed genes using the max expression values\n",
      "0.0005007792375417857\n",
      "Frequency of SNPs in introns of low expressed genes using the max expression values\n",
      "0.009858628492566827\n",
      "Frequency of SNPs in exons of high expressed genes using the median expression values\n",
      "0.0031972270987368073\n",
      "Frequency of SNPs in introns of high expressed genes using the median expression values\n",
      "0.02827210363243538\n",
      "Frequency of SNPs in exons of low expressed genes using the median expression values\n",
      "0.001423264075509528\n",
      "Frequency of SNPs in introns of low expressed genes using the median expression values\n",
      "0.023731668376511285\n",
      "Frequency of SNPs in exons of high expressed genes using the breadth expression values\n",
      "0.003228856553583139\n",
      "Frequency of SNPs in introns of high expressed genes using the breadth expression values\n",
      "0.028695393161306672\n",
      "Frequency of SNPs in exons of low expressed genes using the breadth expression values\n",
      "0.0005027683569847616\n",
      "Frequency of SNPs in introns of low expressed genes using the breadth expression values\n",
      "0.009577278598021467\n"
     ]
    }
   ],
   "source": [
    "# Frequency of SNPs\n",
    "for method in ['max', 'median', 'breadth']:\n",
    "    for i in ['high', 'low']:\n",
    "        for k in ['exons', 'introns']:\n",
    "            print('Frequency of SNPs in {} of {} expressed genes using the {} expression values'.format(k, i, method))\n",
    "            get_Variants('output/{}_{}_{}.bed'.format(k, i, method), variants)\n",
    "            print(lcount('SNP', 'output/{}_{}_{}.vcf'.format(k, i, method))/lcount('SNP', 'snps.txt'))"
   ]
  }
 ],
 "metadata": {
  "kernelspec": {
   "display_name": "Python 3",
   "language": "python",
   "name": "python3"
  },
  "language_info": {
   "codemirror_mode": {
    "name": "ipython",
    "version": 3
   },
   "file_extension": ".py",
   "mimetype": "text/x-python",
   "name": "python",
   "nbconvert_exporter": "python",
   "pygments_lexer": "ipython3",
   "version": "3.6.9"
  }
 },
 "nbformat": 4,
 "nbformat_minor": 2
}
